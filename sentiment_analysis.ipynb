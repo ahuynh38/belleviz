{
 "cells": [
  {
   "cell_type": "markdown",
   "id": "832909f5",
   "metadata": {},
   "source": [
    "<h1>Sentiment Analysis using a pre-trained model for Aspect-Based Sentiment Analysis (ABSA)</h1>\n",
    "Inspired by <a href='https://www.kaggle.com/code/bekirztrk/restaurant-absa-using-pre-trained-model-nlp'>this kaggle project</a>, I'll be running the restaurant reviews I've collected through the pre-trained DeBERTa-v3 model, documented <a href='https://huggingface.co/yangheng/deberta-v3-base-absa-v1.1'>here</a>."
   ]
  },
  {
   "cell_type": "code",
   "execution_count": 1,
   "id": "540e368d",
   "metadata": {},
   "outputs": [
    {
     "data": {
      "application/vnd.jupyter.widget-view+json": {
       "model_id": "6490fb4a9f204c359bdcac92d0e74d0b",
       "version_major": 2,
       "version_minor": 0
      },
      "text/plain": [
       "tokenizer_config.json:   0%|          | 0.00/372 [00:00<?, ?B/s]"
      ]
     },
     "metadata": {},
     "output_type": "display_data"
    },
    {
     "name": "stderr",
     "output_type": "stream",
     "text": [
      "c:\\Users\\andy-\\anaconda3\\envs\\belleviz\\lib\\site-packages\\huggingface_hub\\file_download.py:143: UserWarning: `huggingface_hub` cache-system uses symlinks by default to efficiently store duplicated files but your machine does not support them in C:\\Users\\andy-\\.cache\\huggingface\\hub\\models--yangheng--deberta-v3-base-absa-v1.1. Caching files will still work but in a degraded version that might require more space on your disk. This warning can be disabled by setting the `HF_HUB_DISABLE_SYMLINKS_WARNING` environment variable. For more details, see https://huggingface.co/docs/huggingface_hub/how-to-cache#limitations.\n",
      "To support symlinks on Windows, you either need to activate Developer Mode or to run Python as an administrator. In order to activate developer mode, see this article: https://docs.microsoft.com/en-us/windows/apps/get-started/enable-your-device-for-development\n",
      "  warnings.warn(message)\n",
      "Xet Storage is enabled for this repo, but the 'hf_xet' package is not installed. Falling back to regular HTTP download. For better performance, install the package with: `pip install huggingface_hub[hf_xet]` or `pip install hf_xet`\n"
     ]
    },
    {
     "data": {
      "application/vnd.jupyter.widget-view+json": {
       "model_id": "91602973c5bb4f1cad764a43e207c6d7",
       "version_major": 2,
       "version_minor": 0
      },
      "text/plain": [
       "spm.model:   0%|          | 0.00/2.46M [00:00<?, ?B/s]"
      ]
     },
     "metadata": {},
     "output_type": "display_data"
    },
    {
     "data": {
      "application/vnd.jupyter.widget-view+json": {
       "model_id": "21c335b134184077a82b4ea77d448412",
       "version_major": 2,
       "version_minor": 0
      },
      "text/plain": [
       "added_tokens.json:   0%|          | 0.00/18.0 [00:00<?, ?B/s]"
      ]
     },
     "metadata": {},
     "output_type": "display_data"
    },
    {
     "data": {
      "application/vnd.jupyter.widget-view+json": {
       "model_id": "bad3c0b903e7437d95709aee22119960",
       "version_major": 2,
       "version_minor": 0
      },
      "text/plain": [
       "special_tokens_map.json:   0%|          | 0.00/156 [00:00<?, ?B/s]"
      ]
     },
     "metadata": {},
     "output_type": "display_data"
    },
    {
     "name": "stderr",
     "output_type": "stream",
     "text": [
      "c:\\Users\\andy-\\anaconda3\\envs\\belleviz\\lib\\site-packages\\transformers\\convert_slow_tokenizer.py:564: UserWarning: The sentencepiece tokenizer that you are converting to a fast tokenizer uses the byte fallback option which is not implemented in the fast tokenizers. In practice this means that the fast version of the tokenizer can produce unknown tokens whereas the sentencepiece version would have converted these unknown tokens into a sequence of byte tokens matching the original piece of text.\n",
      "  warnings.warn(\n"
     ]
    },
    {
     "data": {
      "application/vnd.jupyter.widget-view+json": {
       "model_id": "e84be44834954462b61977e465226403",
       "version_major": 2,
       "version_minor": 0
      },
      "text/plain": [
       "config.json: 0.00B [00:00, ?B/s]"
      ]
     },
     "metadata": {},
     "output_type": "display_data"
    },
    {
     "name": "stderr",
     "output_type": "stream",
     "text": [
      "Xet Storage is enabled for this repo, but the 'hf_xet' package is not installed. Falling back to regular HTTP download. For better performance, install the package with: `pip install huggingface_hub[hf_xet]` or `pip install hf_xet`\n"
     ]
    },
    {
     "data": {
      "application/vnd.jupyter.widget-view+json": {
       "model_id": "6bc5e63d29f547d681af921997ba1c00",
       "version_major": 2,
       "version_minor": 0
      },
      "text/plain": [
       "model.safetensors:   0%|          | 0.00/738M [00:00<?, ?B/s]"
      ]
     },
     "metadata": {},
     "output_type": "display_data"
    }
   ],
   "source": [
    "from transformers import AutoTokenizer, AutoModelForSequenceClassification\n",
    "import torch.nn.functional as F\n",
    "\n",
    "\n",
    "tokenizer = AutoTokenizer.from_pretrained(\"yangheng/deberta-v3-base-absa-v1.1\")\n",
    "model = AutoModelForSequenceClassification.from_pretrained(\"yangheng/deberta-v3-base-absa-v1.1\")"
   ]
  },
  {
   "cell_type": "code",
   "execution_count": 2,
   "id": "31c15d07",
   "metadata": {},
   "outputs": [],
   "source": [
    "def analyze_aspect_sentiment(review, aspects, threshold=0.9):\n",
    "    results = {}\n",
    "    for aspect in aspects:\n",
    "        # first check if aspect is mentioned in the review\n",
    "        if aspect.lower() in review.lower():\n",
    "            inputs = tokenizer(f\"[CLS] {review} [SEP] {aspect} [SEP]\", return_tensors=\"pt\")\n",
    "            outputs = model(**inputs)\n",
    "            probs = F.softmax(outputs.logits, dim=1)\n",
    "            probs = probs.detach().numpy()[0]\n",
    "\n",
    "            # extract label with highest probability\n",
    "            max_label, max_prob = max(zip([\"negative\", \"neutral\", \"positive\"], probs), key=lambda x: x[1])\n",
    "\n",
    "            if max_prob >= threshold:\n",
    "                results[aspect] = (max_label, max_prob)\n",
    "            \n",
    "            # print(f\"Sentiment of aspect '{aspect}' in the review is {max_label} with probability {max_prob:.4f}\\n\")\n",
    "    return results"
   ]
  },
  {
   "cell_type": "code",
   "execution_count": 3,
   "id": "411bbdd5",
   "metadata": {},
   "outputs": [],
   "source": [
    "# Load data\n",
    "import pandas as pd\n",
    "\n",
    "df = pd.read_csv('reviews.csv')\n",
    "\n",
    "name_list = df['name'].tolist()\n",
    "review_list = df['text'].tolist()\n"
   ]
  },
  {
   "cell_type": "code",
   "execution_count": null,
   "id": "00ac5614",
   "metadata": {},
   "outputs": [
    {
     "data": {
      "application/vnd.jupyter.widget-view+json": {
       "model_id": "b30fe47a283c42509ec7869565445c8e",
       "version_major": 2,
       "version_minor": 0
      },
      "text/plain": [
       "  0%|          | 0/936 [00:00<?, ?it/s]"
      ]
     },
     "metadata": {},
     "output_type": "display_data"
    }
   ],
   "source": [
    "# List of aspects to analyze\n",
    "aspects_to_analyze = [\"food\", \"service\", \"ambience\",\n",
    "                      \"staff\", \"price\", \"value\", \"restaurant\",\n",
    "                      \"recommendation\", \"parking\", \"drink\",\n",
    "                      \"expectation\", \"flavor\"]\n",
    "\n",
    "# Set the probability threshold\n",
    "threshold = 0.1\n",
    "\n",
    "# Analyze sentiment for each aspect in each review\n",
    "from tqdm.notebook import tqdm\n",
    "all_results = {}\n",
    "for review in tqdm(review_list):\n",
    "    results = analyze_aspect_sentiment(review, aspects_to_analyze, threshold)\n",
    "    all_results[review] = results"
   ]
  },
  {
   "cell_type": "code",
   "execution_count": null,
   "id": "90db107c",
   "metadata": {},
   "outputs": [],
   "source": [
    "# Map results to the dataframe\n",
    "df['results'] = df['text'].map(all_results)"
   ]
  },
  {
   "cell_type": "code",
   "execution_count": null,
   "id": "9097f94a",
   "metadata": {},
   "outputs": [],
   "source": [
    "# Write to CSV\n",
    "df.to_csv(\"lower_threshold.csv\", index=False)"
   ]
  },
  {
   "cell_type": "code",
   "execution_count": null,
   "id": "b8c12c8a",
   "metadata": {},
   "outputs": [
    {
     "name": "stderr",
     "output_type": "stream",
     "text": [
      "C:\\Users\\andy-\\AppData\\Local\\Temp\\ipykernel_28352\\3526763907.py:5: FutureWarning: DataFrame.applymap has been deprecated. Use DataFrame.map instead.\n",
      "  df[absa_columns] = df[absa_columns].applymap(sentiment_to_score)\n",
      "C:\\Users\\andy-\\AppData\\Local\\Temp\\ipykernel_28352\\3526763907.py:6: FutureWarning: DataFrame.applymap has been deprecated. Use DataFrame.map instead.\n",
      "  df[absa_columns] = df[absa_columns].applymap(dec_to_int_score)\n"
     ]
    }
   ],
   "source": [
    "absa_columns = [\"food\", \"service\", \"ambience\",\n",
    "                \"staff\", \"price\", \"value\", \"restaurant\",\n",
    "                \"recommendation\", \"parking\", \"drink\",\n",
    "                \"expectation\", \"flavor\"]\n",
    "df[absa_columns] = df[absa_columns].applymap(sentiment_to_score)\n",
    "df[absa_columns] = df[absa_columns].applymap(dec_to_int_score)"
   ]
  }
 ],
 "metadata": {
  "kernelspec": {
   "display_name": "belleviz",
   "language": "python",
   "name": "python3"
  },
  "language_info": {
   "codemirror_mode": {
    "name": "ipython",
    "version": 3
   },
   "file_extension": ".py",
   "mimetype": "text/x-python",
   "name": "python",
   "nbconvert_exporter": "python",
   "pygments_lexer": "ipython3",
   "version": "3.10.18"
  }
 },
 "nbformat": 4,
 "nbformat_minor": 5
}
